{
 "cells": [
  {
   "cell_type": "markdown",
   "metadata": {},
   "source": [
    "# Note on Installing Hadoop on Mac "
   ]
  },
  {
   "cell_type": "markdown",
   "metadata": {},
   "source": [
    "1. \n",
    "There cannot be another \n",
    "```bash\n",
    "<configuration>\n",
    "</configuration>\n",
    "```\n",
    "in any .xml configuration files. o.w. error occurs on ```hdfs namenode -format```\n",
    "\n",
    "2. For error caused by \n",
    "```./start-dfs.sh```, run\n",
    "\n",
    "```bash\n",
    "ssh-keygen -t rsa\n",
    "cat ~/.ssh/id_rsa.pub >> ~/.ssh/authorized_keys\n",
    "```\n",
    "3. Since Hadoop 3.0.0 - Alpha 1 there was a Change in the port configuration:\n",
    "http://localhost:50070\n",
    "was moved to\n",
    "http://localhost:9870\n",
    "\n",
    "```\n",
    "Namenode ports: 50470 --> 9871, 50070 --> 9870, 8020 --> 9820\n",
    "Secondary NN ports: 50091 --> 9869, 50090 --> 9868\n",
    "Datanode ports: 50020 --> 9867, 50010 --> 9866, 50475 --> 9865, 50075 --> 9864\n",
    "```\n",
    "\n",
    "\n",
    "4. Installing Hadoop on Mac could possibly mess up PATH. Your ~/.bash_profile should look like this:\n",
    "\n",
    "```bash\n",
    "export PATH=/opt/local/bin:/opt/local/sbin:$PATH\n",
    "export PATH=\"/usr/bin:/bin:/usr/sbin:/sbin\"\n",
    "export PATH=\"/usr/local/bin:/usr/local/sbin:$PATH\"\n",
    "\n",
    "export HADOOP_HOME=/usr/local/Cellar/hadoop/3.1.2\n",
    "export PATH=$PATH:$HADOOP_HOME/sbin:$HADOOP_HOME/bin\n",
    "export HADOOP_COMMON_HOME=$HADOOP_HOME\n",
    "export PATH=\"/anaconda3/bin:$PATH\"\n",
    "```"
   ]
  },
  {
   "cell_type": "code",
   "execution_count": null,
   "metadata": {},
   "outputs": [],
   "source": []
  }
 ],
 "metadata": {
  "kernelspec": {
   "display_name": "Python 3",
   "language": "python",
   "name": "python3"
  },
  "language_info": {
   "codemirror_mode": {
    "name": "ipython",
    "version": 3
   },
   "file_extension": ".py",
   "mimetype": "text/x-python",
   "name": "python",
   "nbconvert_exporter": "python",
   "pygments_lexer": "ipython3",
   "version": "3.7.3"
  }
 },
 "nbformat": 4,
 "nbformat_minor": 2
}

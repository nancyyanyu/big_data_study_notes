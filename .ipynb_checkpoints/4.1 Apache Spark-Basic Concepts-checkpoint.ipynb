{
 "cells": [
  {
   "cell_type": "markdown",
   "metadata": {},
   "source": [
    "# Apache Spark\n",
    "\n",
    "**Apache Spark**:a modern distributed fault tolerant computation platform. \n",
    "\n",
    "**History of Apache Spark**:\n",
    "\n",
    "<img src=\"./images/week4_1.png\" width=350>\n",
    "<img src=\"./images/week4_2.png\" width=250>\n",
    "<img src=\"./images/week4_3.png\" width=350>\n",
    "<img src=\"./images/week4_4.png\" width=350>"
   ]
  },
  {
   "cell_type": "markdown",
   "metadata": {},
   "source": [
    "# RDDs\n",
    "\n",
    "**RDD(Resilient Distributed Dataset)**: a core abstraction enabling both an *efficient execution for a computation*, and a *flexible and convenient formalism to define computations*.\n",
    "\n",
    "\n",
    "- **Resilient** — able to withstand failures\n",
    "- **Distributed** — spanning across multiple machines\n",
    "- Formally, RDD is a read-only, partitioned collection of records\n",
    "- To say that the dataset is an RDD, the dataset must adhere to the RDD interface.\n",
    "\n",
    "**The dataset must be:**\n",
    "- able to enumerate its partitions by implementing the partition's function.\n",
    "\n",
    "  ```partitions() -> Array[Partition]```\n",
    "  \n",
    " - The partition is an opaque object for the framework. It is passed back to the iterator function of the RDD, when the framework needs to read the data from the partition.\n",
    "\n",
    " ```iterator(p: Partition, parents: Array[Iterator]) -> Iterator```\n",
    "\n",
    "- able to enumerate its dependencies and provide an array of dependency objects.\n",
    "\n",
    " ```dependencies() -> Array[Dependency]```\n",
    " - The dependency object maps partitions of the dataset to the dependencies that are partitions of the parent dataset. \n",
    " - Those parent partitions are injected into the iterator call when creating a reader.\n",
    " \n",
    "- **Typed.** every item in RDD has the same, known type.\n",
    " - typedness is an important property to catch bugs early on before the actual execution\n",
    " - e.g. RDD[strings], or an RDD[integers].\n",
    "<img src=\"./images/rdd1.png\" width=350>"
   ]
  },
  {
   "cell_type": "markdown",
   "metadata": {},
   "source": [
    "## Why do we need a new abstraction?\n",
    "\n",
    "**Example**: iterative computations (K-means, PageRank, …)\n",
    "- relation between consequent steps is known only to the user code not the framework\n",
    " - framework has no capabilities to optimize the whole computation\n",
    "- framework must reliably persist data between steps thus generating excessive I/O (even if it is temporary data)\n",
    "\n",
    ">In this scenario,Spark is trying to keep the data in the memory, effectively eliminates an intermediate disk persistence, and thus improving the completion time. \n",
    "\n",
    "**Example**: joins\n",
    "- join operation is used in many MapReduce applications\n",
    "- not-so-easy to reuse code\n"
   ]
  },
  {
   "cell_type": "markdown",
   "metadata": {},
   "source": [
    "## Example: a binary file in HDFS\n",
    "> Implement the necessary functions to make the binary file in RDD\n",
    "\n",
    "<img src=\"./images/rdd2.png\" width=350>\n",
    "- To implement the **partition**'s function: lookup the blocks for NameNode, create a partition for every block, and return the partitions.\n",
    "- To implement the **iterator**'s function: extract the block information from the partition, and use it to create a reader from HDFS.\n",
    "- To implement the **dependencies**' function: File reading does not depend on any other RDD, nor on any other partition. So implementing the dependencies function is trivial. It returns an empty array\n"
   ]
  },
  {
   "cell_type": "markdown",
   "metadata": {},
   "source": [
    "## Example: a data* file in HDFS \n",
    "> reading records from the file rather than a raw bytes\n",
    "\n",
    "<img src=\"./images/rdd3.png\" width=350>"
   ]
  },
  {
   "cell_type": "markdown",
   "metadata": {},
   "source": [
    "##  Example: an in-memory array\n",
    "The simplest way to make the array in RDD is to pretend that there is a single partition with the whole array. In this case, the partition object keeps a ***reference*** to the array, and the iterator function uses this reference to create an iterator.\n",
    "\n",
    "<img src=\"./images/rdd4.png\" width=350>\n"
   ]
  },
  {
   "cell_type": "markdown",
   "metadata": {},
   "source": [
    "## Example: a sliced* in-memory array\n",
    "\n",
    "> slice the array into chunks to gain parallelism\n",
    "\n",
    "The partition corresponds to the chunk of the source array. \n",
    "\n",
    "*partitions are handled in parallel.*\n",
    "\n",
    "<img src=\"./images/rdd5.png\" width=350>"
   ]
  },
  {
   "cell_type": "markdown",
   "metadata": {},
   "source": [
    "## Summary\n",
    "\n",
    "- **RDD is a read-only, partitioned collection of records**\n",
    " - The collection of the dataset must provide information about its partitions, and provide means to create an iterator over the partition. \n",
    " - a developer can access the partitions and create iterators over them\n",
    " - RDD tracks dependencies (to be explained in the next video)\n",
    "- Examples of RDDs\n",
    " - Hadoop files with the proper file format\n",
    " - In-memory arrays\n"
   ]
  },
  {
   "cell_type": "markdown",
   "metadata": {},
   "source": [
    "# Transformation\n",
    "\n",
    "**Two ways to construct RDDs:**\n",
    "- Data in a stable storage\n",
    " - Example: files in HDFS, objects in Amazon S3 bucket, lines in a text file, …\n",
    " - RDD for data in a stable storage has no dependencies\n",
    "- From existing RDDs by applying a transformation \n",
    " - Example: filtered file, grouped records, …\n",
    " - RDD for a transformed data depends on the source data\n",
    " \n",
    "**Transformation**:\n",
    "- Allow you to create new RDDs from the existing RDDs by specifying how\n",
    "to obtain new items from the existing items\n",
    "- The transformed RDD depends implicitly on the source RDD\n",
    "\n",
    "Note: Datasets are immutable in Spark, and you cannot modify data in-place."
   ]
  },
  {
   "cell_type": "markdown",
   "metadata": {},
   "source": [
    "## Example: map, flatMap\n",
    "**map**:\n",
    "- Def: map(f: T -> U): RDD[T] -> RDD[U]\n",
    "- returns a mapped RDD with items f(x) for every x in the source RDD\n",
    "<img src=\"./images/trans2.png\" width=350>\n",
    "\n",
    "**flatMap**:\n",
    "- Def: flatMap(f: T -> Array[U]): RDD[T] -> RDD[U]\n",
    "- same as map but flattens the result of *f*\n",
    "- generalizes map and filter\n",
    "\n"
   ]
  },
  {
   "cell_type": "markdown",
   "metadata": {},
   "source": [
    "## Example: filter\n",
    "\n",
    "**filter**:\n",
    "- Def: filter(p: T -> Boolean): RDD[T] -> RDD[T]\n",
    "- returns a filtered RDD with items satisfying the predicate *p*\n",
    "<img src=\"./images/trans1.png\" width=350>\n",
    "\n",
    "**Filtered RDD**:\n",
    "- **partitions**: transformed RDD's mostly the same as source one-->*reuse partitions of the source RDD* as there is no need to change the partitioning.\n",
    "- **dependencies**: every field of partition depends on the source partition. You can establish this relation by providing a dependency object that establishes one-to-one correspondence between the filtered and the source partitions.\n",
    "- **iterator**: when creating an iterator over the filter partition:\n",
    " - Spark would inject an iterator of the source partition into the iterator function called\n",
    " - reusing the parent iterator.\n",
    " - When requested for the next value, you can pull values from the parent iterator until it returns you an item that satisfies the predicate. \n",
    "<img src=\"./images/trans3.png\" width=350>\n"
   ]
  },
  {
   "cell_type": "markdown",
   "metadata": {},
   "source": [
    "### Lazy iterator\n",
    "\n",
    "Actual filtering happens not at the creation time of Y, but at the access time to the iterator over a partition of Y.The filtering starts to happen only when you start to pull items from the iterator. \n",
    "\n",
    "Same holds for other transformations – they are lazy,i.e. they compute the result only when accessed.\n",
    " "
   ]
  },
  {
   "cell_type": "markdown",
   "metadata": {},
   "source": [
    "### On closures\n",
    "<img src=\"./images/trans4.png\" width=350>\n",
    "\n",
    "### (Partition)Dependency graph\n",
    "Whenever you apply a transformation to the RDD, you implicitly construct a dependency graph on the RDDs\n",
    "- This graph is used by the framework to schedule jobs \n",
    "\n",
    "<img src=\"./images/trans5.png\" width=350>\n"
   ]
  },
  {
   "cell_type": "markdown",
   "metadata": {},
   "source": [
    "## Keyed Transformation\n",
    "\n",
    "\n",
    "<img src=\"./images/trans6.png\" width=400>\n",
    "\n"
   ]
  },
  {
   "cell_type": "markdown",
   "metadata": {},
   "source": [
    "### Grouped RDD\n",
    "- partition the key space\n",
    " - using the hash partition then to compute the values in the resulting partition\n",
    "\n",
    "- **Shuffle**: redistribute all the values between all the partitions. \n",
    " - scan over the entire source RDD to select only the pairs that belong to the output partition.\n",
    "\n",
    "> Differnt from flatMap like transformation, a single output partition depends on all the input partitions.\n",
    "\n",
    "<img src=\"./images/trans9.png\" width=400>\n",
    "\n",
    "#### Narrow & Wide dependencies\n",
    "<img src=\"./images/trans10.png\" width=400>"
   ]
  },
  {
   "cell_type": "markdown",
   "metadata": {},
   "source": [
    "## Cogroup Transformation\n",
    "\n",
    "<img src=\"./images/trans7.png\" width=400>\n",
    "\n",
    "The cogroup transformation allows you to compute any kind of a join between two data sets.\n",
    "\n",
    "### Inner join\n",
    "That is all triples (k, x, y) where (k, x) is in X and (k, y) is in Y\n",
    "\n",
    "--> apply the ```flatMap``` transformation on top of the result of the cogroup transformation. "
   ]
  },
  {
   "cell_type": "markdown",
   "metadata": {},
   "source": [
    "## Joins Transformation\n",
    "\n",
    "The join transformation produces the inner join of two data sets.\n",
    "\n",
    "**inner join:** If the key is present only in the one side of the join that is in one data set. Then it is omitted from the result\n",
    "\n",
    "**outer join:** one-sided keys are added to the result with appropriate null values.\n",
    "\n",
    "<img src=\"./images/trans8.png\" width=400>\n"
   ]
  },
  {
   "cell_type": "markdown",
   "metadata": {},
   "source": [
    "##  MapReduce in Spark\n",
    "\n",
    "You can express any MapReduce computation in Spark as the ```flatMap``` followed by the ```groupByKey```, followed by one more ```flatMap```. \n",
    "\n",
    "<img src=\"./images/trans11.png\" width=400>"
   ]
  },
  {
   "cell_type": "markdown",
   "metadata": {},
   "source": [
    "## Summary\n",
    "Transformation\n",
    "- is a description of how to obtain a new RDD from existing RDDs\n",
    "- is the primary way to “modify” data (given that RDDs are immutable)\n",
    "\n",
    "Properties:\n",
    "- Transformations are lazy, i.e. no work is done until data is explicitly requested\n",
    "- There are transformations with narrow and wide dependencies\n",
    "- MapReduce can be expressed with a couple of transformations\n",
    "- Complex transformations (like joins, cogroup) are available "
   ]
  },
  {
   "cell_type": "markdown",
   "metadata": {},
   "source": [
    "# Actions \n",
    "\n",
    "**Driver & executors**:\n",
    "- When you write and invoke your Spark application, driver ***runs within the driver program.***\n",
    "- Driver program drives the execution of your Spark application\n",
    "- Driver delegates tasks to executors to use cluster resources\n",
    " - When something must be done with the data, the driver schedules tasks to be executed by executors.\n",
    "- In *local* mode, executors are collocated with the driver\n",
    "- In *cluster* mode, executors are located on cluster machines-->  allowing you to use the cluster for a computation\n",
    "\n",
    "\n",
    "**Actions**:\n",
    "- Triggers data to be materialized and processed on the executors and\n",
    "then passes the outcome to the driver\n",
    "> Actions, together with a transformation code, are executed elsewhere, not in your driver program. Your driver program receives only the outcome.\n",
    "\n",
    "```bash\n",
    "Spark does a great job of abstracting away the execution details, and that improves your developer productivity and code readability.```\n",
    "- **Example**: actions are used to collect, print and save data"
   ]
  },
  {
   "cell_type": "markdown",
   "metadata": {},
   "source": [
    "## Frequently used actions\n",
    "- ```collect``` action collects the result into the memory of the driver program.\n",
    " - intended to be used when the output is small enough to fit into the driver's memory.\n",
    "- ```take``` action takes the given number of items from a data set and passes them back to the driver.\n",
    " - tries to use only the first partition of a data set to optimize the completion time.\n",
    "<img src=\"./images/action1.png\" width=400>\n",
    "When the result is large enough, you may want to save it to HDFS for example. Doing so by collecting items in the driver will quickly run out of memory.\n",
    "\n",
    "There are special family of safe actions that do heavy work on the executor side and return a confirmation to the driver.\n",
    "\n",
    "- ```SaveAsText``` file is used for full debugging or for simple applications\n",
    "- ```SaveAsHadoopFile``` leverages Hadoop file formats to serialize data-->common way to save data to HDFS.\n",
    "<img src=\"./images/action2.png\" width=400>\n",
    "\n",
    "If you need to run your own code over a data set, there are ```foreach``` and ```foreachPartition``` actions that invoke your function on the executor side.\n",
    "\n",
    "You can use this function to persist your data in your custom database for example, or to send data over the wire to an external service, or anything else.\n",
    "<img src=\"./images/action3.png\" width=400>"
   ]
  },
  {
   "cell_type": "markdown",
   "metadata": {},
   "source": [
    "## Summary\n",
    "- Actions trigger computation and processing of the dataset\n",
    "- Actions are executed on executors and they pass results back to the driver\n",
    "- Actions are used to collect, save, print and fold data "
   ]
  },
  {
   "cell_type": "markdown",
   "metadata": {},
   "source": [
    "# Resiliency \n",
    "\n",
    "How it is possible to continue operation despite machine failures in the cluster?\n",
    "\n",
    "## Fault-tolerance in MapReduce\n",
    "Two key aspects:\n",
    "- reliable storage for input and output data\n",
    " -  once data is stored in HDFS it is safe\n",
    "- deterministic and side-effect free execution of mappers and reducers\n",
    " -  if the computation is deterministic, and has no side effects, the framework can restart it multiple times, and get the same result every time\n",
    "<img src=\"./images/resi1.png\" width=400>\n",
    "\n"
   ]
  },
  {
   "cell_type": "markdown",
   "metadata": {},
   "source": [
    "## Fault-tolerance in Spark\n",
    "\n",
    "Same two key aspects:\n",
    "- reliable storage for input and output data\n",
    "- deterministic and side-effect free execution of\n",
    "transformations(including closures)\n",
    " - Spark assumes that every transformation is deterministic, and free of side-effects, to be able to restart any failed computation\n",
    "\n",
    "**Determinism** — every invocation of the function results in the same returned value\n",
    "- e. g. do not use random numbers, do not depend on a hash value order\n",
    "\n",
    "**Freedom of side-effects** — an invocation of the function does not change anything in the external world\n",
    "- e. g. do not commit to a database, do not rely on global variables\n",
    " -  If your function happens to commit to the database, there is no way to roll back changes in case of failure.  \n",
    " \n",
    "```bash\n",
    "Spark is allowed to restart the failed parts of the computation. To decide what to restart, Spark keeps track of the lineage. ```"
   ]
  },
  {
   "cell_type": "markdown",
   "metadata": {},
   "source": [
    "## Fault-tolerance & transformations\n",
    "**Lineage** — a dependency graph for all partitions of all RDDs involved in a\n",
    "computation up to the data source\n",
    "\n",
    "Machine failure renders some partitions in the lineage unavailable. To cope with the failure, you must detect *which partitions become unavailable*, and decide *what to restart*. \n",
    "- Detection is done in the Driver Program, because the Driver Program orchestrates the execution, and already tracks the partitions. \n",
    "- **Deciding what to restart**: Given the failed partition, you look at its dependencies, and if they are alive, restart the computation. If the dependencies are failed as well, you recursively try to recover them.\n",
    "- **Restarts** are slightly more fragile in the case of wide dependencies, because to recompute an output partition, all dependencies must be alive, and there are many of them. If dependencies you evicted out of a cache for example, the restart will be expensive.\n",
    "\n",
    "<img src=\"./images/resi2.png\" width=400>\n",
    "<img src=\"./images/resi3.png\" width=400>"
   ]
  },
  {
   "cell_type": "markdown",
   "metadata": {},
   "source": [
    "## Fault-tolerance & actions\n",
    "\n",
    "Actions are side-effects in Spark (communicate with external services)\n",
    "-  Actions have to be **idempotent**幂等（自己重複運算的結果等於它自己的元素） that is safe to be re-executed multiple times given the same input\n",
    "\n",
    "Example: **collect()**\n",
    "- all transformations are deterministic, the final data set isn't changed in case of restarts. Therefore, even if the collect action fails, it could be safely re-executed\n",
    "\n",
    "Example: **saveAsTextFile()**\n",
    "- since the data set is the same, you can safely override the output file"
   ]
  },
  {
   "cell_type": "markdown",
   "metadata": {},
   "source": [
    "## Summary\n",
    "\n",
    "Resiliency is implemented by\n",
    "- tracking lineage\n",
    "- assuming deterministic & side-effect free execution of transformations(including closures)\n",
    " - all the closures pass to Spark, must be deterministic and side effect free\n",
    "- assuming idempotency for actions\n",
    "\n",
    "These properties cannot be checked or enforced at the compile time, and may lead to obscure bugs in your application that are hard to debug and hard to reproduce."
   ]
  },
  {
   "cell_type": "code",
   "execution_count": null,
   "metadata": {},
   "outputs": [],
   "source": []
  }
 ],
 "metadata": {
  "kernelspec": {
   "display_name": "Python 3",
   "language": "python",
   "name": "python3"
  },
  "language_info": {
   "codemirror_mode": {
    "name": "ipython",
    "version": 3
   },
   "file_extension": ".py",
   "mimetype": "text/x-python",
   "name": "python",
   "nbconvert_exporter": "python",
   "pygments_lexer": "ipython3",
   "version": "3.6.7"
  },
  "toc": {
   "base_numbering": 1,
   "nav_menu": {},
   "number_sections": true,
   "sideBar": true,
   "skip_h1_title": false,
   "title_cell": "Table of Contents",
   "title_sidebar": "Contents",
   "toc_cell": false,
   "toc_position": {},
   "toc_section_display": true,
   "toc_window_display": true
  }
 },
 "nbformat": 4,
 "nbformat_minor": 2
}
